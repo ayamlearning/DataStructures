{
  "nbformat": 4,
  "nbformat_minor": 0,
  "metadata": {
    "colab": {
      "name": "Template.ipynb",
      "private_outputs": true,
      "provenance": [],
      "authorship_tag": "ABX9TyPdg7pcZ3mgc8G4VDTya2br",
      "include_colab_link": true
    },
    "kernelspec": {
      "name": "python3",
      "display_name": "Python 3"
    },
    "language_info": {
      "name": "python"
    }
  },
  "cells": [
    {
      "cell_type": "markdown",
      "metadata": {
        "id": "view-in-github",
        "colab_type": "text"
      },
      "source": [
        "<a href=\"https://colab.research.google.com/github/ayamlearning/DataStructures/blob/main/Template.ipynb\" target=\"_parent\"><img src=\"https://colab.research.google.com/assets/colab-badge.svg\" alt=\"Open In Colab\"/></a>"
      ]
    },
    {
      "cell_type": "code",
      "execution_count": null,
      "metadata": {
        "id": "wXOf5nYzm71K"
      },
      "outputs": [],
      "source": [
        ""
      ]
    },
    {
      "cell_type": "markdown",
      "source": [
        "# Problem Statement\n"
      ],
      "metadata": {
        "id": "yA9Dv4cynTET"
      }
    },
    {
      "cell_type": "markdown",
      "source": [
        "??? (past the problem statement here)\n",
        "\n",
        "Source: ??? (link to the source)\n",
        "\n",
        "\n"
      ],
      "metadata": {
        "id": "LrLAWqDhnZ2l"
      }
    },
    {
      "cell_type": "markdown",
      "source": [
        "# The Method\n"
      ],
      "metadata": {
        "id": "uIxP0zbHnjtW"
      }
    },
    {
      "cell_type": "markdown",
      "source": [
        "Here's the systematic strategy we'll apply for solving problems:\n",
        "\n",
        "State the problem clearly. Identify the input & output formats.\n",
        "\n",
        "1. Come up with some example inputs & outputs. Try to cover all edge cases.\n",
        "2. Come up with a correct solution for the problem. State it in plain English.\n",
        "3. Implement the solution and test it using example inputs. Fix bugs, if any.\n",
        "4. Analyze the algorithm's complexity and identify inefficiencies, if any.\n",
        "5. Apply the right technique to overcome the inefficiency. \n",
        "6. Repeat steps 3 to 6."
      ],
      "metadata": {
        "id": "d76suDC8noNG"
      }
    },
    {
      "cell_type": "code",
      "source": [
        ""
      ],
      "metadata": {
        "id": "L5r3y_kknWk0"
      },
      "execution_count": null,
      "outputs": []
    }
  ]
}